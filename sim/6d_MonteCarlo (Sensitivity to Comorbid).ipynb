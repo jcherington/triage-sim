{
 "cells": [
  {
   "cell_type": "markdown",
   "id": "96b0c451",
   "metadata": {},
   "source": [
    "# Preliminaries and Dataframe Construction"
   ]
  },
  {
   "cell_type": "code",
   "execution_count": 1,
   "id": "5f7937a8",
   "metadata": {},
   "outputs": [],
   "source": [
    "# Import modules\n",
    "import pandas as pd\n",
    "import numpy as np\n",
    "import matplotlib.pyplot as plt\n",
    "import seaborn as sns\n",
    "import statsmodels.api as sm\n",
    "import statsmodels.formula.api as smf\n",
    "from scipy import stats\n",
    "import random\n",
    "\n",
    "#Import Encounters from Database Query\n",
    "df = pd.read_pickle(\"encounters.pkl\")\n",
    "\n",
    "#Formatting\n",
    "plt.rcParams['font.family'] = 'Times New Roman'  # Set plt shows font to Times New Roman\n",
    "plt.rcParams['axes.grid'] = True  # Ensure line graphs display on graphs\n",
    "sns.set_palette(sns.color_palette('Set2')) #set color palette to a nice seaborn style https://seaborn.pydata.org/tutorial/color_palettes.html"
   ]
  },
  {
   "cell_type": "code",
   "execution_count": 2,
   "id": "87adfdb4",
   "metadata": {},
   "outputs": [
    {
     "name": "stderr",
     "output_type": "stream",
     "text": [
      "c:\\Users\\Jon\\miniconda3\\envs\\datasci\\Lib\\site-packages\\seaborn\\_oldcore.py:1119: FutureWarning: use_inf_as_na option is deprecated and will be removed in a future version. Convert inf values to NaN before operating instead.\n",
      "  with pd.option_context('mode.use_inf_as_na', True):\n"
     ]
    },
    {
     "data": {
      "image/png": "[encoded data removed]",
      "text/plain": [
       "<Figure size 640x480 with 1 Axes>"
      ]
     },
     "metadata": {},
     "output_type": "display_data"
    }
   ],
   "source": [
    "# Create a histogram\n",
    "sns.histplot(data=df, x=\"ECI_raw\")#, bins=20)\n",
    "\n",
    "# Add labels and title\n",
    "plt.xlabel(\"X-axis label\")\n",
    "plt.ylabel(\"Frequency\")\n",
    "plt.title(\"Histogram Title\")\n",
    "\n",
    "# Show the plot\n",
    "plt.show()"
   ]
  },
  {
   "cell_type": "code",
   "execution_count": 3,
   "id": "d20be5ec",
   "metadata": {},
   "outputs": [],
   "source": [
    "def Maryland_comorbid_cat(row): \n",
    "    if row['ECI_raw'] >= severe_cutoff: \n",
    "        return +3 \n",
    "    return +0 \n",
    "\n",
    "def Maryland_sofa_calc(row) :\n",
    "    if row['InitialSOFA'] >14:\n",
    "        return 4\n",
    "    elif row['InitialSOFA'] >=12:\n",
    "        return 3\n",
    "    elif row['InitialSOFA'] >=9:\n",
    "        return 2\n",
    "    return 1"
   ]
  },
  {
   "cell_type": "code",
   "execution_count": 4,
   "id": "12b9bb90",
   "metadata": {},
   "outputs": [],
   "source": [
    "##Maryland\n",
    "\n",
    "df_small_Maryland = (df\n",
    "      .rename(columns={'Survived':'Actual_Survival'})\n",
    "      .reindex(columns=['EncounterID', 'Age', 'Race', 'Age_Group', 'InitialSOFA', 'ECI_raw', 'Actual_Survival'])\n",
    "      .assign(Maryland_Age = lambda df_1:\n",
    "                  pd.cut(df_1['Age'], [0, 50, 70, 85, np.inf], labels=[1, 2, 3, 4])#.astype(int)\n",
    "      )\n",
    ")\n",
    "\n",
    "#MC for different degrees of scarcity with NY Protocol\n",
    "#beds = 1\n",
    "patients = 20 #sets denominator of capacity (i.e. number of patients per bed) across all simulations\n",
    "beds = 10 #sets numerator of capacity (i.e. number of beds) across all simulations\n",
    "sample_size = 3700 #size of each sample (i.e. number of patients drawn from dataset) per MC simulation run\n",
    "runs = 250 #number of MC simulations per capacity level\n",
    "\n",
    "MC_ECI_Maryland = pd.DataFrame()\n",
    "\n",
    "for c in range(-10,21): #iterate over ECI_raw from 0 to 20\n",
    "      severe_cutoff = c #set number of free beds for this batch of runs\n",
    "      for i in range(runs): #iterate over each run\n",
    "            sample = (df_small_Maryland\n",
    "            .sample(n=sample_size, replace=False) #randomly shuffle dataframe w/o replacement\n",
    "            .assign(ECI_Cutoff = severe_cutoff,\n",
    "                  Run = i+1,\n",
    "                  Capacity = (beds/patients),\n",
    "                  Maryland_S = lambda df_: df_.apply(Maryland_sofa_calc, axis=1),\n",
    "                  Maryland_C = lambda df_: df_.apply(Maryland_comorbid_cat, axis=1),\n",
    "                  Allocated = 0, \n",
    "                  Survived = 0,\n",
    "                  Bracket = lambda df_0:\n",
    "                        np.arange(len(df_0)) // patients + 1, \n",
    "                  )\n",
    "            .assign(Decision_Pair = lambda df_1: #assign a number to each pair in a bracket.\n",
    "                        df_1.groupby(['Bracket'])['Allocated'].cumcount() // 2+1,\n",
    "                  Maryland_Score = lambda df_y: df_y['Maryland_S']+df_y['Maryland_C'],\n",
    "                  )\n",
    "            .assign(Rank=lambda df_2: df_2\n",
    "                  #     .groupby(['Bracket', 'Decision_Pair'])['EncounterID'].rank(method=\"first\") # LOTTERY (1)\n",
    "                  #     .groupby(['Bracket', 'Decision_Pair'])['NY_Score'].rank(method=\"first\") #NY SOFA (2)\n",
    "                  #     .groupby(['Bracket', 'Decision_Pair'])['Age_Group_N'].rank(method=\"first\") # AGE-GROUP (3)\n",
    "                  #     .sort_values('Maryland_Age') \n",
    "                       .groupby(['Bracket', 'Decision_Pair'])['Maryland_Score'].rank(method=\"first\") #Maryland (4)\n",
    "                  #     .groupby(['Bracket', 'Decision_Pair'])['Colorado_Score'].rank(method=\"first\") #COLORADO (5)\n",
    "                  )\n",
    "            .assign(Rank = lambda df_3: df_3['Rank'].mask(df_3['Decision_Pair'] <= (beds - patients//2), 1)\n",
    "                        if beds > (patients // 2) #IF beds is greater than 10, then assign first priority to everyone whose decision-pair is less than beds-10\n",
    "                        else df_3['Rank'].mask(df_3['Decision_Pair'] > beds, 2) #if beds is less than or equal to 10, then assign last priority to all whose decision-pair is greater than the # of beds\n",
    "                  )\n",
    "            .assign(Allocated=lambda df_3: df_3['Allocated'].mask(df_3['Rank'] <= 1, 1))\n",
    "            .assign(Survived = lambda df_3: df_3['Survived'].mask(df_3['Allocated'] == 1, df_3['Actual_Survival']))\n",
    "            #.drop(['Age_Group_N', 'Beds'], axis=1)\n",
    "            #### MUST EITHER (1) Run without grouping and keep ecnounter numbers = large file (i.e. 4GB per file) OR (2) identify fields necessary for analysis and preserve groupby for each\n",
    "            #.groupby(['Run', 'Race', 'Age_Group'], as_index=False).sum(numeric_only=True)\n",
    "            \n",
    "            )\n",
    "            MC_ECI_Maryland = pd.concat([MC_ECI_Maryland, sample.reindex(columns=['ECI_Cutoff', 'Capacity', 'Run', 'EncounterID', 'Allocated', 'Survived'])])\n",
    "MC_ECI_Maryland.to_csv('MC_ECI_Maryland.csv', index=False)\n"
   ]
  }
 ],
 "metadata": {
  "kernelspec": {
   "display_name": "Python 3.10.8 ('myenv')",
   "language": "python",
   "name": "python3"
  },
  "language_info": {
   "codemirror_mode": {
    "name": "ipython",
    "version": 3
   },
   "file_extension": ".py",
   "mimetype": "text/x-python",
   "name": "python",
   "nbconvert_exporter": "python",
   "pygments_lexer": "ipython3",
   "version": "3.11.7"
  },
  "vscode": {
   "interpreter": {
    "hash": "fb3d46ba7deccea0813b045b5a26367b0a53cb47223c8915d4a138cf32d4ee93"
   }
  }
 },
 "nbformat": 4,
 "nbformat_minor": 5
}
