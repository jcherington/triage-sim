{
 "cells": [
  {
   "cell_type": "code",
   "execution_count": 1,
   "id": "5f7937a8",
   "metadata": {},
   "outputs": [],
   "source": [
    "# Import modules\n",
    "import pandas as pd\n",
    "import numpy as np\n",
    "import sqlite3\n",
    "import shutil\n",
    "import matplotlib.pyplot as plt\n",
    "import seaborn as sns\n",
    "from pandas.api.types import CategoricalDtype"
   ]
  },
  {
   "cell_type": "code",
   "execution_count": 2,
   "id": "cfafd964",
   "metadata": {},
   "outputs": [],
   "source": [
    "# Connect to Database\n",
    "con = sqlite3.connect('database.db')  # Connect to the new database\n",
    "csr = con.cursor()  # Set the cursor to the database"
   ]
  },
  {
   "cell_type": "code",
   "execution_count": 3,
   "id": "7c6e8cf3",
   "metadata": {},
   "outputs": [
    {
     "name": "stdout",
     "output_type": "stream",
     "text": [
      "Number of Unique Encounters:  3707\n",
      "Number of Unique Subjects:  3512\n",
      "<class 'pandas.core.frame.DataFrame'>\n",
      "RangeIndex: 3707 entries, 0 to 3706\n",
      "Data columns (total 22 columns):\n",
      " #   Column            Non-Null Count  Dtype  \n",
      "---  ------            --------------  -----  \n",
      " 0   EncounterID       3707 non-null   object \n",
      " 1   SubjectID         3707 non-null   object \n",
      " 2   Age               3707 non-null   object \n",
      " 3   Race              3707 non-null   object \n",
      " 4   Ethnicity         3707 non-null   object \n",
      " 5   Sex               3707 non-null   object \n",
      " 6   InitialSOFA       3707 non-null   int64  \n",
      " 7   StayLength        3707 non-null   float64\n",
      " 8   CCS_raw           3707 non-null   int64  \n",
      " 9   CCS_age           3707 non-null   int64  \n",
      " 10  CCS_Colorado      3707 non-null   int64  \n",
      " 11  ECI_raw           3707 non-null   int64  \n",
      " 12  LE                3707 non-null   float64\n",
      " 13  Cho_LE            3707 non-null   float64\n",
      " 14  COVID_Status      3707 non-null   int64  \n",
      " 15  Elective_Flag     3707 non-null   int64  \n",
      " 16  Discharge_Status  3707 non-null   int64  \n",
      " 17  Intubation        3707 non-null   int64  \n",
      " 18  NY_Score          3707 non-null   object \n",
      " 19  Maryland_Score    3707 non-null   int64  \n",
      " 20  Colorado_Score    3707 non-null   int64  \n",
      " 21  PA_Score          3707 non-null   int64  \n",
      "dtypes: float64(3), int64(12), object(7)\n",
      "memory usage: 637.3+ KB\n",
      "None\n"
     ]
    }
   ],
   "source": [
    "sql_query = r\"\"\"SELECT V.EncounterID, V.SubjectID, Age_at_Admission AS Age, R.Description AS Race, \n",
    "                ET.Description AS Ethnicity, G.Description AS Sex, SOFA AS InitialSOFA, \n",
    "                Length_of_Stay_Days AS StayLength, CCS_raw, CCS_age, CCS_Colorado, ECI_raw, Life_Exp as LE, Cho_Adj_Life_Exp As Cho_LE, \n",
    "                COVID_Status, Elective_Flag, Discharge_Status, Intubation, LAC.Description AS NY_Score, Maryland_Score, Colorado_Score, PA_Score\n",
    "                    FROM Vent AS V\n",
    "                    INNER JOIN Encounters E ON E.EncounterID=V.EncounterID\n",
    "                    INNER JOIN Subjects S ON S.SubjectID=V.SubjectID\n",
    "                    INNER JOIN Lkp_Race R ON Race=R.ID\n",
    "                    INNER JOIN Lkp_Ethnicity ET ON Ethnicity=ET.ID\n",
    "                    INNER JOIN Lkp_Sex G ON Sex=G.ID\n",
    "                    INNER JOIN Lkp_Priority LAC ON NY_Score=LAC.ID\n",
    "                        WHERE Timepoint=0 AND Intubation=1;\n",
    "                    \n",
    "                    \"\"\"\n",
    "\n",
    "#Target is 3707 Encounters (3512 Unique Subjects)\n",
    "df_database = (pd.read_sql_query(sql_query, con))\n",
    "\n",
    "print('Number of Unique Encounters: ', df_database['EncounterID'].drop_duplicates().count())\n",
    "print('Number of Unique Subjects: ', df_database['SubjectID'].drop_duplicates().count())\n",
    "print(df_database.info())"
   ]
  },
  {
   "cell_type": "code",
   "execution_count": 4,
   "id": "2fb0dbc2",
   "metadata": {},
   "outputs": [],
   "source": [
    "%run 4a_dictionaries_calculators.ipynb"
   ]
  },
  {
   "cell_type": "code",
   "execution_count": 5,
   "id": "8a3903ea",
   "metadata": {},
   "outputs": [
    {
     "name": "stdout",
     "output_type": "stream",
     "text": [
      "<class 'pandas.core.frame.DataFrame'>\n",
      "RangeIndex: 3707 entries, 0 to 3706\n",
      "Data columns (total 26 columns):\n",
      " #   Column            Non-Null Count  Dtype   \n",
      "---  ------            --------------  -----   \n",
      " 0   EncounterID       3707 non-null   object  \n",
      " 1   SubjectID         3707 non-null   object  \n",
      " 2   Age               3707 non-null   float64 \n",
      " 3   Race              3707 non-null   object  \n",
      " 4   Ethnicity         3707 non-null   object  \n",
      " 5   Sex               3707 non-null   object  \n",
      " 6   InitialSOFA       3707 non-null   int64   \n",
      " 7   StayLength        3707 non-null   float64 \n",
      " 8   CCS_raw           3707 non-null   int64   \n",
      " 9   CCS_age           3707 non-null   int64   \n",
      " 10  CCS_Colorado      3707 non-null   int64   \n",
      " 11  ECI_raw           3707 non-null   int64   \n",
      " 12  LE                3707 non-null   float64 \n",
      " 13  Cho_LE            3707 non-null   float64 \n",
      " 14  COVID_Status      3707 non-null   int8    \n",
      " 15  Elective_Flag     3707 non-null   int64   \n",
      " 16  Discharge_Status  3707 non-null   int64   \n",
      " 17  Intubation        3707 non-null   int64   \n",
      " 18  NY_Score          3707 non-null   int8    \n",
      " 19  Maryland_Score    3707 non-null   int64   \n",
      " 20  Colorado_Score    3707 non-null   int64   \n",
      " 21  PA_Score          3707 non-null   int64   \n",
      " 22  Protocol          3707 non-null   object  \n",
      " 23  Survived          3707 non-null   int8    \n",
      " 24  Age_Group         3707 non-null   category\n",
      " 25  Count             3707 non-null   int64   \n",
      "dtypes: category(1), float64(4), int64(12), int8(3), object(6)\n",
      "memory usage: 652.1+ KB\n",
      "None\n"
     ]
    },
    {
     "data": {
      "text/plain": [
       "'../Simulation\\\\encounters.pkl'"
      ]
     },
     "execution_count": 5,
     "metadata": {},
     "output_type": "execute_result"
    }
   ],
   "source": [
    "####\n",
    "# CREATE Pickle for Included Encounters ###\n",
    "####\n",
    "df = (df_database\n",
    "    .assign(\n",
    "        Protocol = 'Baseline',\n",
    "        Race = lambda df_1: df_1\n",
    "            .apply(dict_race_ethnicity, axis=1) #ensure all Hispanic are given Race 'Hispanic'\n",
    "            .map(dict_race_small), #apply OMB Race categories to all non-Hispanic\n",
    "        Survived = lambda df_1: df_1\n",
    "        #    .where(df_1['Discharge_Status'] == 2, 'Expired', 'Survived')\n",
    "            .apply(dict_discharge, axis=1)\n",
    "            .astype(CategoricalDtype(categories=['Expired', 'Survived'])).cat.codes, #express all discharge status as integers\n",
    "        Age = lambda df_1: df_1['Age']\n",
    "            .mask(df_1['Age'] == '>90', 90)\n",
    "            .astype(float),\n",
    "        NY_Score = lambda df_1: df_1['NY_Score']\n",
    "            .astype(CategoricalDtype(categories=[\"Red\", \"Yellow\", \"Blue\"], ordered=True)).cat.codes,\n",
    "        COVID_Status = lambda df_1: df_1['COVID_Status']\n",
    "            .astype(CategoricalDtype(categories={0:'Negative', 1:'Positive'})).cat.codes\n",
    "    )\n",
    "    .assign(Age_Group = lambda df_2:\n",
    "            pd.cut(df_2['Age'],\n",
    "                [0, 25, 35, 45, 55, 65, 75, 85, 90],\n",
    "                labels=['<25', '25-34', '35-44', '45-54', '55-64', '65-74', '75-84', '>85']\n",
    "            ),\n",
    "            Count = 1\n",
    "    )\n",
    "    #.drop(['Discharge_Status'], axis=1)\n",
    "    .astype({'SubjectID': str, 'EncounterID': str, })\n",
    ")\n",
    "\n",
    "print (df.info())\n",
    "\n",
    "df.to_pickle(\"encounters.pkl\")\n",
    "\n",
    "###COPY PICKLE TO ELSEWHERE\n",
    "shutil.copy('encounters.pkl', '../analysis')\n",
    "shutil.copy('encounters.pkl', '../simulation')"
   ]
  },
  {
   "cell_type": "code",
   "execution_count": 7,
   "id": "4d1e2480",
   "metadata": {},
   "outputs": [],
   "source": [
    "#####\n",
    "# Create pickle of excluded encounters in same format as included\n",
    "#####\n",
    "\n",
    "#Import Exluded Encounters from Pickle\n",
    "df_excluded_pickle = pd.read_pickle(\"excluded_raw.pkl\")\n",
    "\n",
    "#Apply cleaning to excluded raw pickle, to align with included encounters pickle\n",
    "excluded = (df_excluded_pickle\n",
    "    .assign(\n",
    "        Protocol = 'Baseline',\n",
    "        Ethnicity = lambda df_1: df_1['Ethnicity'].map(ethnicity_dict_reverse_lkp), #map strings back from Lookup Table\n",
    "        Sex = lambda df_1: df_1['Sex'].map(sex_dict_reverse_lkp) #map strings back from Lookup Table\n",
    "    )\n",
    "    .assign(\n",
    "        Race = lambda df_1: df_1\n",
    "            .apply(dict_race_ethnicity, axis=1) #ensure all Hispanic are given Race 'Hispanic'\n",
    "            .map(dict_race_small), #apply OMB Race categories to all non-Hispanic\n",
    "        Survived = lambda df_1: df_1\n",
    "        #    .where(df_1['Discharge_Status'] == 2, 'Expired', 'Survived')\n",
    "            .apply(dict_discharge, axis=1)\n",
    "            .astype(CategoricalDtype(categories=['Expired', 'Survived'])).cat.codes, #express all discharge status as integers\n",
    "        Age = lambda df_1: df_1['Age']\n",
    "            .mask(df_1['Age'] == '>90', 90)\n",
    "            .astype(float),\n",
    "        #NY_Score = lambda df_1: df_1['NY_Score']\n",
    "        #    .astype(CategoricalDtype(categories=[\"Red\", \"Yellow\", \"Blue\"], ordered=True)).cat.codes,\n",
    "        COVID_Status = lambda df_1: df_1['COVID_Status'].astype(CategoricalDtype(categories={0:'Negative', 1:'Positive'})).cat.codes,\n",
    "        #Sex = lambda df_1: df_1['Sex'].astype(CategoricalDtype(categories={1:'Male', 2:'Female'})).cat.codes,\n",
    "        #Ethnicity = lambda df_1: df_1['Sex'].astype(CategoricalDtype(categories={1:'Hispanic', 2:'Not Hispanic'})).cat.codes,\n",
    "    )\n",
    "    .assign(Age_Group = lambda df_2:\n",
    "            pd.cut(df_2['Age'],\n",
    "                [0, 25, 35, 45, 55, 65, 75, 85, 90],\n",
    "                labels=['<25', '25-34', '35-44', '45-54', '55-64', '65-74', '75-84', '>85']\n",
    "            ),\n",
    "            Count = 1\n",
    "    )\n",
    "    .drop(['Discharge_Status'], axis=1)\n",
    "    .astype({'SubjectID': str, 'EncounterID': str})\n",
    ")\n",
    "excluded.to_pickle(\"excluded_processed.pkl\")"
   ]
  }
 ],
 "metadata": {
  "kernelspec": {
   "display_name": "Python 3.10.8 ('myenv')",
   "language": "python",
   "name": "python3"
  },
  "language_info": {
   "codemirror_mode": {
    "name": "ipython",
    "version": 3
   },
   "file_extension": ".py",
   "mimetype": "text/x-python",
   "name": "python",
   "nbconvert_exporter": "python",
   "pygments_lexer": "ipython3",
   "version": "3.11.7"
  },
  "vscode": {
   "interpreter": {
    "hash": "cd5d0a8147fa3de6a86df2ea899fcd7eaa3fdbc819680b9fed256305e6d97914"
   }
  }
 },
 "nbformat": 4,
 "nbformat_minor": 5
}
